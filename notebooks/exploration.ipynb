{
 "cells": [
  {
   "cell_type": "markdown",
   "id": "c172a329",
   "metadata": {},
   "source": [
    "# 📊 Exploratory Notebook\n",
    "\n",
    "Ce notebook permet de tester rapidement différents modèles et visualisations pour le projet QuantAI-agent."
   ]
  },
  {
   "cell_type": "code",
   "execution_count": null,
   "id": "58df1ac7",
   "metadata": {
    "vscode": {
     "languageId": "plaintext"
    }
   },
   "outputs": [],
   "source": [
    "from fetch_data import fetch_data\n",
    "from models.linear import train_and_predict as linear_model\n",
    "from models.random_forest import train_and_predict as rf_model\n",
    "from visualization import plot_predictions, plot_mae_evolution"
   ]
  },
  {
   "cell_type": "code",
   "execution_count": null,
   "id": "c7ec03fb",
   "metadata": {
    "vscode": {
     "languageId": "plaintext"
    }
   },
   "outputs": [],
   "source": [
    "# Chargement des données\n",
    "data, y_real = fetch_data()\n",
    "data.tail()"
   ]
  },
  {
   "cell_type": "code",
   "execution_count": null,
   "id": "7c10d59a",
   "metadata": {
    "vscode": {
     "languageId": "plaintext"
    }
   },
   "outputs": [],
   "source": [
    "# Linear Regression\n",
    "pred_linear, mae_linear = linear_model(data, y_real)\n",
    "plot_predictions(y_real, pred_linear, model_name='Linear Regression')"
   ]
  },
  {
   "cell_type": "code",
   "execution_count": null,
   "id": "d045c798",
   "metadata": {
    "vscode": {
     "languageId": "plaintext"
    }
   },
   "outputs": [],
   "source": [
    "# Random Forest\n",
    "pred_rf, mae_rf = rf_model(data, y_real)\n",
    "plot_predictions(y_real, pred_rf, model_name='Random Forest')"
   ]
  }
 ],
 "metadata": {
  "language_info": {
   "name": "python"
  }
 },
 "nbformat": 4,
 "nbformat_minor": 5
}
